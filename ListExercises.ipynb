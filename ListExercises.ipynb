{
 "cells": [
  {
   "cell_type": "code",
   "execution_count": 102,
   "metadata": {},
   "outputs": [
    {
     "name": "stdout",
     "output_type": "stream",
     "text": [
      "['table', 'chair', 'shelf', 'sofa', 'fridge']\n",
      "table chair\n",
      "sofa is in list\n",
      "sofa\n"
     ]
    }
   ],
   "source": [
    "# Exercise 1\n",
    "\n",
    "import random\n",
    "list = [\"table\", \"chair\", \"shelf\", \"sofa\", \"fridge\"]\n",
    "counter = 0\n",
    "result = 0\n",
    "print(list)\n",
    "print(list[0], list[1])\n",
    "if \"sofa\" in list:\n",
    "    print(\"sofa is in list\")\n",
    "for item in list:\n",
    "    if item == \"sofa\":\n",
    "        print(list[counter])\n",
    "    counter = counter + 1"
   ]
  },
  {
   "cell_type": "code",
   "execution_count": 103,
   "metadata": {},
   "outputs": [
    {
     "name": "stdout",
     "output_type": "stream",
     "text": [
      "[38, 21, 1, 22, 33]\n",
      "115\n",
      "38\n"
     ]
    }
   ],
   "source": [
    "# Exercise 2\n",
    "\n",
    "thrownDiceNumbers = []\n",
    "for i in range(0, 5):\n",
    "    thrownDiceNumbers.append(random.randint(0, 50))\n",
    "print(thrownDiceNumbers)\n",
    "for num in thrownDiceNumbers:\n",
    "    result = result + num\n",
    "print(result)\n",
    "print(max(thrownDiceNumbers))"
   ]
  },
  {
   "cell_type": "code",
   "execution_count": 104,
   "metadata": {},
   "outputs": [
    {
     "name": "stdout",
     "output_type": "stream",
     "text": [
      "[13, 10, 19, 16, 11]\n"
     ]
    }
   ],
   "source": [
    "# Exercise 3\n",
    "\n",
    "numeroLista = []\n",
    "nextNumber = 0\n",
    "while len(numeroLista) < 5:\n",
    "    nextNumber = random.randint(1, 20)\n",
    "    if nextNumber in numeroLista:\n",
    "        continue\n",
    "    numeroLista.append(nextNumber)\n",
    "print(numeroLista)"
   ]
  }
 ],
 "metadata": {
  "kernelspec": {
   "display_name": "Python 3",
   "language": "python",
   "name": "python3"
  },
  "language_info": {
   "codemirror_mode": {
    "name": "ipython",
    "version": 3
   },
   "file_extension": ".py",
   "mimetype": "text/x-python",
   "name": "python",
   "nbconvert_exporter": "python",
   "pygments_lexer": "ipython3",
   "version": "3.12.0"
  }
 },
 "nbformat": 4,
 "nbformat_minor": 2
}
