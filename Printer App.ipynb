{
 "cells": [
  {
   "cell_type": "code",
   "execution_count": 16,
   "metadata": {},
   "outputs": [
    {
     "name": "stdout",
     "output_type": "stream",
     "text": [
      "Printer App\n"
     ]
    }
   ],
   "source": [
    "\n",
    "creator = \"Niko\"\n",
    "number1, number2 = 12, 3\n",
    "multiplication = number1 * number2\n",
    "addition = number1 + number2\n",
    "division = number1 / number2\n",
    "substraction = number1 - number2\n",
    "print(\"Printer App\")"
   ]
  },
  {
   "cell_type": "code",
   "execution_count": 17,
   "metadata": {},
   "outputs": [
    {
     "name": "stdout",
     "output_type": "stream",
     "text": [
      "This app is made by: Niko\n",
      "The value of number1 is 12\n",
      "The value of number2 is 3\n",
      "12 * 3 = 36\n",
      "12 + 3 = 15\n",
      "12 / 3 = 4.0\n",
      "12 - 3 = 9\n"
     ]
    }
   ],
   "source": [
    "\n",
    "print(\"This app is made by:\", creator)\n",
    "#print(number1)\n",
    "print(\"The value of number1 is\", number1)\n",
    "print(\"The value of number2 is\", number2)\n",
    "print(number1, \"*\", number2, \"=\", multiplication)\n",
    "print(number1, \"+\", number2, \"=\", addition)\n",
    "print(number1, \"/\", number2, \"=\", division)\n",
    "print(number1, \"-\", number2, \"=\", substraction)"
   ]
  }
 ],
 "metadata": {
  "kernelspec": {
   "display_name": "Python 3",
   "language": "python",
   "name": "python3"
  },
  "language_info": {
   "codemirror_mode": {
    "name": "ipython",
    "version": 3
   },
   "file_extension": ".py",
   "mimetype": "text/x-python",
   "name": "python",
   "nbconvert_exporter": "python",
   "pygments_lexer": "ipython3",
   "version": "3.12.0"
  }
 },
 "nbformat": 4,
 "nbformat_minor": 2
}
