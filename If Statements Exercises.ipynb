{
 "cells": [
  {
   "cell_type": "code",
   "execution_count": 18,
   "metadata": {},
   "outputs": [
    {
     "name": "stdout",
     "output_type": "stream",
     "text": [
      "number1 is greater than number2\n",
      "number1 is greater or equal to number2\n",
      "number is not equal to number2\n"
     ]
    }
   ],
   "source": [
    "number1, number2, number3 = 6, 5, 6\n",
    "if number1 == number2:\n",
    "    print(\"number1 and number2 are equal\")\n",
    "if number1 > number2:\n",
    "    print(\"number1 is greater than number2\")\n",
    "if number1 >= number2:\n",
    "    print(\"number1 is greater or equal to number2\")\n",
    "if number1 is not number2:\n",
    "    print(\"number is not equal to number2\")\n"
   ]
  },
  {
   "cell_type": "code",
   "execution_count": 19,
   "metadata": {},
   "outputs": [
    {
     "name": "stdout",
     "output_type": "stream",
     "text": [
      "number1 is not equal to number2 and number1 is equal to number3\n"
     ]
    }
   ],
   "source": [
    "if number1 == number2 and number2 == number3:\n",
    "    print(\"all numbers are equal\")\n",
    "if number1 == number2 or number2 == number3:\n",
    "    print(\"number1 and number2 are equal or number2 and number3 are equal\")\n",
    "if number1 > number2 and number1 > number3:\n",
    "    print(\"number1 is greater than number3 and number1 is greater than number3\")\n",
    "if not number1 > number2:\n",
    "    if number2 > number3:\n",
    "        print(\"number1 is not greater than number 2 and number2 is greater than number3\")\n",
    "if number1 is not number2:\n",
    "    if number1 is number3:\n",
    "        print(\"number1 is not equal to number2 and number1 is equal to number3\")"
   ]
  },
  {
   "cell_type": "code",
   "execution_count": 20,
   "metadata": {},
   "outputs": [
    {
     "name": "stdout",
     "output_type": "stream",
     "text": [
      "name1 is equal to name2\n"
     ]
    }
   ],
   "source": [
    "name1, name2, name3 = \"abc\", \"abc\", \"ccc\"\n",
    "if name1 is name2:\n",
    "    print(\"name1 is equal to name2\")\n",
    "if name1 is not name2:\n",
    "    print(\"name1 and name2 are not equal\")\n",
    "if name1 is not name2:\n",
    "    if name1 is name3:\n",
    "        print(\"name1 is not equal to name2 and name1 is equal to name3\")\n"
   ]
  }
 ],
 "metadata": {
  "kernelspec": {
   "display_name": "Python 3",
   "language": "python",
   "name": "python3"
  },
  "language_info": {
   "codemirror_mode": {
    "name": "ipython",
    "version": 3
   },
   "file_extension": ".py",
   "mimetype": "text/x-python",
   "name": "python",
   "nbconvert_exporter": "python",
   "pygments_lexer": "ipython3",
   "version": "3.12.0"
  }
 },
 "nbformat": 4,
 "nbformat_minor": 2
}
